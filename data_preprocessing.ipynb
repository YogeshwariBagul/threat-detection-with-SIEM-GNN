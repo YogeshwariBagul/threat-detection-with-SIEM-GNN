{
 "cells": [
  {
   "cell_type": "code",
   "execution_count": 11,
   "id": "ea33043a-6585-43cf-8266-b362ca44e5ee",
   "metadata": {},
   "outputs": [
    {
     "name": "stdout",
     "output_type": "stream",
     "text": [
      "Logs exported successfully!\n"
     ]
    }
   ],
   "source": [
    "from elasticsearch import Elasticsearch\n",
    "import json\n",
    "\n",
    "# Connect to Elasticsearch\n",
    "es = Elasticsearch([\"http://localhost:9200\"], basic_auth=(\"elastic\", \"2F8u4KWbdpHG24abCZkd\"))\n",
    "\n",
    "# Query security logs\n",
    "response = es.search(index=\"winlogbeat-*\", body={\"query\": {\"match_all\": {}}})\n",
    "\n",
    "# Convert response to a dictionary\n",
    "response_dict = response.body  # Extract the response dictionary\n",
    "\n",
    "# Save logs to a JSON file\n",
    "with open(\"logs.json\", \"w\") as f:\n",
    "    json.dump(response_dict, f, indent=4)\n",
    "\n",
    "print(\"Logs exported successfully!\")"
   ]
  },
  {
   "cell_type": "code",
   "execution_count": 12,
   "id": "b62700f0-f83b-4231-9ada-47645159d196",
   "metadata": {},
   "outputs": [
    {
     "name": "stdout",
     "output_type": "stream",
     "text": [
      "Converted JSON logs to logs.csv\n"
     ]
    }
   ],
   "source": [
    "!python convert_logs.py"
   ]
  },
  {
   "cell_type": "code",
   "execution_count": 13,
   "id": "d882c314-6e6f-49be-ae4c-5528b3773c14",
   "metadata": {},
   "outputs": [
    {
     "name": "stdout",
     "output_type": "stream",
     "text": [
      "Graph saved as 'windows_graph.pt'!\n"
     ]
    }
   ],
   "source": [
    "!python preprocess_graph.py"
   ]
  },
  {
   "cell_type": "code",
   "execution_count": 14,
   "id": "df325c2f-1ee5-4765-b2ff-7c4ac79af738",
   "metadata": {},
   "outputs": [
    {
     "name": "stdout",
     "output_type": "stream",
     "text": [
      "Epoch 0: Loss = 1.5484, Accuracy = 0.3800\n",
      "Epoch 5: Loss = 0.7109, Accuracy = 0.6300\n",
      "Epoch 10: Loss = 0.5529, Accuracy = 0.7300\n",
      "Epoch 15: Loss = 0.4697, Accuracy = 0.7800\n",
      "Epoch 20: Loss = 0.4354, Accuracy = 0.7900\n",
      "Epoch 25: Loss = 0.3888, Accuracy = 0.8200\n",
      "Epoch 30: Loss = 0.3623, Accuracy = 0.8300\n",
      "Epoch 35: Loss = 0.3297, Accuracy = 0.8700\n",
      "Epoch 40: Loss = 0.3009, Accuracy = 0.8700\n",
      "Epoch 45: Loss = 0.2731, Accuracy = 0.8700\n"
     ]
    }
   ],
   "source": [
    "!python gnn_model.py"
   ]
  },
  {
   "cell_type": "code",
   "execution_count": null,
   "id": "964a9678-a15f-4714-8721-76ea1e774b0d",
   "metadata": {},
   "outputs": [
    {
     "name": "stdout",
     "output_type": "stream",
     "text": [
      " * Serving Flask app '__main__'\n",
      " * Debug mode: off\n"
     ]
    },
    {
     "name": "stderr",
     "output_type": "stream",
     "text": [
      "WARNING: This is a development server. Do not use it in a production deployment. Use a production WSGI server instead.\n",
      " * Running on http://127.0.0.1:5000\n",
      "Press CTRL+C to quit\n",
      "127.0.0.1 - - [13/Jun/2025 15:25:51] \"POST /predict HTTP/1.1\" 200 -\n"
     ]
    }
   ],
   "source": [
    "from flask import Flask, request, jsonify\n",
    "import torch\n",
    "from gnn_model import ThreatDetectionGNN\n",
    "\n",
    "app = Flask(__name__)\n",
    "\n",
    "model = ThreatDetectionGNN(input_dim=128, hidden_dim=64, output_dim=2)\n",
    "model.load_state_dict(torch.load(\"gnn_model.pth\"))\n",
    "model.eval()\n",
    "\n",
    "@app.route(\"/predict\", methods=[\"POST\"])\n",
    "def predict():\n",
    "    data = request.json\n",
    "    x = torch.tensor(data[\"features\"]).float()\n",
    "    edge_index = torch.tensor(data[\"edge_index\"]).long()\n",
    "    with torch.no_grad():\n",
    "        output = model(x, edge_index)\n",
    "        prediction = torch.argmax(output, dim=1).tolist()\n",
    "    return jsonify({\"prediction\": prediction})\n",
    "\n",
    "@app.route(\"/\", methods=[\"GET\"])\n",
    "def home():\n",
    "    return \"Threat Detection API is running!\"\n",
    "\n",
    "if __name__ == \"__main__\":\n",
    "    app.run(debug=False)\n"
   ]
  },
  {
   "cell_type": "code",
   "execution_count": null,
   "id": "da13c2b4-37db-4430-aaa6-389c59210b26",
   "metadata": {},
   "outputs": [],
   "source": []
  }
 ],
 "metadata": {
  "kernelspec": {
   "display_name": "Python 3 (ipykernel)",
   "language": "python",
   "name": "python3"
  },
  "language_info": {
   "codemirror_mode": {
    "name": "ipython",
    "version": 3
   },
   "file_extension": ".py",
   "mimetype": "text/x-python",
   "name": "python",
   "nbconvert_exporter": "python",
   "pygments_lexer": "ipython3",
   "version": "3.12.0"
  }
 },
 "nbformat": 4,
 "nbformat_minor": 5
}
